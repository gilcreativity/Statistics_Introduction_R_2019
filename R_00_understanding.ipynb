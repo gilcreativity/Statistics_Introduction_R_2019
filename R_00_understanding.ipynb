{
 "cells": [
  {
   "cell_type": "markdown",
   "metadata": {
    "slideshow": {
     "slide_type": "slide"
    }
   },
   "source": [
    "# R\n",
    "\n",
    "### Instructor : YunGil Jun\n",
    "### Date: 2019. 11."
   ]
  },
  {
   "cell_type": "markdown",
   "metadata": {
    "slideshow": {
     "slide_type": "fragment"
    }
   },
   "source": [
    "#### Written by YunGil Jun (Updated 2019. 11)"
   ]
  },
  {
   "cell_type": "markdown",
   "metadata": {
    "slideshow": {
     "slide_type": "slide"
    }
   },
   "source": [
    "# I. 데이터 분석을 위한 R\n",
    "* 데이터 분석을 위한 오픈소스\n",
    "* 데이터 분석 프로젝트 프로세스"
   ]
  },
  {
   "cell_type": "markdown",
   "metadata": {
    "slideshow": {
     "slide_type": "slide"
    }
   },
   "source": [
    "# 1. What is R?\n",
    "* **GPL(General Public License: GNU)** : 일반 공중 사용 허가서로 자유 소프트웨어 재단에서 만든 자유 소프트웨어 라이센스 (https://ko.wikipedia.org/wiki/GNU_일반_공중_사용권)\n",
    "* #### R reference:\n",
    "  * **공식사이트**: https://cran.r-project.org\n",
    "  * **공식사이트 R 소개자료** : \"An Introductin to R\"(https://cran.r-project.org/doc/manuals/r-release/R-intro.html#Introduction-and-preliminaries)\n",
    "  * \"**R** is a language and environment for statistical computing and graphics\""
   ]
  },
  {
   "cell_type": "markdown",
   "metadata": {
    "slideshow": {
     "slide_type": "slide"
    }
   },
   "source": [
    "# 2. Advantage of R\n",
    "   * **Comparison of Statistical Packages**  (https://en.wikipedia.org/wiki/Comparison_of_statistical_packages)\n",
    "   * **Popularity for Data Scientists (R vs Python)**\n",
    "![](https://www.kdnuggets.com/images/top-analytics-data-science-machine-learning-software-2018-3yrs-539.jpg)"
   ]
  },
  {
   "cell_type": "markdown",
   "metadata": {
    "slideshow": {
     "slide_type": "slide"
    }
   },
   "source": [
    "* **History**\n",
    "![](https://cdn-images-1.medium.com/max/800/1*h6xNiSQXjR2-F2sTy9wIig.png)\n",
    " * Python Invented(1989 Guido van Rossum) -> Python2(2000) -> Python3(2008)\n",
    " * S(Bell Labs) -> R Invented(1991 Ross Ihaka and Robert Gentleman) -> R 1.0.0(2000) -> R 3.0.2(2013)"
   ]
  },
  {
   "cell_type": "markdown",
   "metadata": {
    "slideshow": {
     "slide_type": "slide"
    }
   },
   "source": [
    "# comparision between R and Python for DataScientists (2019)\n",
    "(written by author)\n",
    "\n",
    "![R_Python](etc/2019-07-23_R_edu.png)"
   ]
  },
  {
   "cell_type": "markdown",
   "metadata": {
    "slideshow": {
     "slide_type": "slide"
    }
   },
   "source": [
    "# 3. Why R?\n",
    "* Open-source (Free)\n",
    "* Lots of packages\n",
    "* High quality packages with proper document (CRAN)\n",
    "* easy to use with RStudio, R Markdown\n",
    "* graphics capabilities\n",
    "* community support"
   ]
  },
  {
   "cell_type": "markdown",
   "metadata": {
    "slideshow": {
     "slide_type": "slide"
    }
   },
   "source": [
    "# 4. Environment in R\n",
    "* 통합 개발 환경IDE(Integrated Development Environment)\n",
    "> * RStudio : https://www.rstudio.com/products/RStudio/\n",
    "> * Visual Studio용 R : https://docs.microsoft.com/ko-kr/visualstudio/rtvs/installing-r-tools-for-visual-studio\n",
    "> * jupyter notebook R kernel : https://irkernel.github.io/requirements/"
   ]
  },
  {
   "cell_type": "markdown",
   "metadata": {
    "slideshow": {
     "slide_type": "slide"
    }
   },
   "source": [
    "# 5. R community\n",
    "* #rstats hashtag : https://twitter.com/search?q=%23rstats\n",
    "* R-Ladies : https://rladies.org\n",
    "* Local R meetup groups : https://jumpingrivers.github.io/meetingsR/r-user-groups.html\n",
    "* Rweekly : https://rweekly.org\n",
    "* R-bloggers : https://www.r-bloggers.com\n",
    "* DataCarpentry(http://www.datacarpentry.org) and Software Carpentry(https://software-carpentry.org)\n",
    "\n",
    "* R Conferences : https://jumpingrivers.github.io/meetingsR/events.html \n",
    "* Github : https://github.com/trending/developers/r?since=weekly\n",
    "* The R Consortium : https://www.r-consortium.org/projects\n"
   ]
  },
  {
   "cell_type": "markdown",
   "metadata": {
    "slideshow": {
     "slide_type": "slide"
    }
   },
   "source": [
    "# 6. Etc\n",
    "* Github, Jupyter Notebook, RMarkdown, etc\n",
    "* Python(Deep learning), Julia(new) etc"
   ]
  },
  {
   "cell_type": "markdown",
   "metadata": {
    "slideshow": {
     "slide_type": "slide"
    }
   },
   "source": [
    "----"
   ]
  },
  {
   "cell_type": "markdown",
   "metadata": {
    "slideshow": {
     "slide_type": "fragment"
    }
   },
   "source": [
    "# 참고) Computational methods for Analysis"
   ]
  },
  {
   "cell_type": "markdown",
   "metadata": {
    "slideshow": {
     "slide_type": "slide"
    }
   },
   "source": [
    "## 1) Data Cleaning\n",
    "* Importing data\n",
    "* Joining multiple datasets\n",
    "* Detecting missing values\n",
    "* Detecting anomalies\n",
    "* Imputing for missing values\n",
    "* Data quality assurance"
   ]
  },
  {
   "cell_type": "markdown",
   "metadata": {
    "slideshow": {
     "slide_type": "slide"
    }
   },
   "source": [
    "## 2) Exploratory Data Anlaysis(EDA)\n",
    "* Ability to formulate relevant questions for investigation\n",
    "* Identifying trends\n",
    "* Identifying covariation between variables\n",
    "* Communicating results effectively using visualizations(scatterplots, histograms, box and whisker, etc.)"
   ]
  },
  {
   "cell_type": "markdown",
   "metadata": {
    "slideshow": {
     "slide_type": "slide"
    }
   },
   "source": [
    "## 3) Data Visualizations\n",
    "* Including metrics relevant to your customer’s needs\n",
    "* Creating useful features\n",
    "* A logical layout (“F-pattern” for easy scanning)\n",
    "* Creating an optimum refresh rate\n",
    "* Generating reports or other automated actions"
   ]
  },
  {
   "cell_type": "markdown",
   "metadata": {
    "slideshow": {
     "slide_type": "slide"
    }
   },
   "source": [
    "## 4) Analysis\n",
    "\n",
    "    (1) Knowledge based Analysis:\n",
    "    ex) Statistical Analysis\n",
    "\n",
    "    (2) Algorithmatic Analysis:\n",
    "    ex) Statistical Analysis, Machine Learning"
   ]
  },
  {
   "cell_type": "markdown",
   "metadata": {
    "slideshow": {
     "slide_type": "slide"
    }
   },
   "source": [
    "### (1) Statistical Analysis\n",
    "* Emprical Study\n",
    "* Theoritical Knowledge based Analysis"
   ]
  },
  {
   "cell_type": "markdown",
   "metadata": {
    "slideshow": {
     "slide_type": "slide"
    }
   },
   "source": [
    "### (2) Machine Learning\n",
    "\n",
    "* Reason why you chose to use a specific machine learning model\n",
    "* Splitting data into training/test sets (k-fold cross validation) to avoid overfitting\n",
    "* Selecting the right evaluation metrics (AUC, $adj-R^2$, confusion matrix, etc.)\n",
    "* Feature engineering and selection\n",
    "* Hyperparameter tuning"
   ]
  }
 ],
 "metadata": {
  "celltoolbar": "Slideshow",
  "kernelspec": {
   "display_name": "R",
   "language": "R",
   "name": "ir"
  },
  "language_info": {
   "codemirror_mode": "r",
   "file_extension": ".r",
   "mimetype": "text/x-r-source",
   "name": "R",
   "pygments_lexer": "r",
   "version": "3.6.1"
  }
 },
 "nbformat": 4,
 "nbformat_minor": 2
}
